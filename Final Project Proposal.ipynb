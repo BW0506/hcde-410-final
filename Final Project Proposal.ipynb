{
 "cells": [
  {
   "cell_type": "markdown",
   "id": "e29ce0eb-7168-498d-84a6-eeffa43b05c1",
   "metadata": {},
   "source": [
    "# HCDE 410 Final Project Proposal"
   ]
  },
  {
   "cell_type": "markdown",
   "id": "25bec08a-231a-4abd-9a4c-2c740e8bd62b",
   "metadata": {},
   "source": [
    "## Motivation and problem statement\n",
    "Since I am about to graduate, I often think about job-related questions. The field of work and salary are my main considerations. I want to work in a field that related to data science, but I do not know the current market situation of this field. Therefore, I want to use this analysis to understand the average salary level in data science related jobs and examine what factors or characterisitics might influence salary levels.\n",
    "\n",
    "I believe that analyzing the salary level in data science will be a interesting topic to many peers. Through this analysis, I hope to provide a clear understanding of salary level in data science jobs for myself and others with similar concerns, and help us all to think more deeply about our career planning from multiple aspects."
   ]
  },
  {
   "cell_type": "markdown",
   "id": "8f83d4bc-8388-4870-9856-6e3e942f7e23",
   "metadata": {},
   "source": [
    "## Overview and research questions\n",
    "The purpose of this study is to explore salary levels and trends for data science related jobs, and to understand the factors that may affect the salary levels.\n",
    "* What is the average annual salary for data scientists from 2020-2024?\n",
    "* Which positions in the data science field have higher salaries? Which positions have relatively lower salaries?\n",
    "* Does salary increase with accumulated work experience? If so, is the increase significant?\n",
    "* Does remote work impact the salary level?\n",
    "* Does company size have a significant impact on salary level?\n",
    "* How do salaries vary across different countries?"
   ]
  },
  {
   "cell_type": "markdown",
   "id": "246ad897-c220-4389-8261-84d8a6f73891",
   "metadata": {},
   "source": [
    "## Background\n",
    "### [Data Scientist Salary: Your 2024 Pay Guide](https://www.coursera.org/articles/data-scientist-salary)\n",
    "\n",
    "This analysis of data scientist salaries in 2024 shows how location, education level, industry, and work experience affect data scientist income. The article notes that data scientist salaries increase with experience and education, and pointed out that the number of data scientist jobs will grow 36% over the next decade. This article explored many of the factors that influence salary levels and provided good reference for me. In my analysis, I will focus more on how remote work, positions, company size and regional differences affect the salary level."
   ]
  },
  {
   "cell_type": "markdown",
   "id": "99c8f1a2-306e-4476-8c58-da353c6a362c",
   "metadata": {},
   "source": [
    "## Data selected for analysis\n",
    "### [Data Science Salaries Dataset](https://www.kaggle.com/datasets/yusufdelikkaya/datascience-salaries-2024)\n",
    "\n",
    "This dataset contains salary data for 2020-2024 in the data science field. There are 11 columns in this dataset, in addition to salary information, it also includes job title, experience level, job type and other information. This dataset helps me to have a clear understanding of the average salary level in the data science field and allows me to analyze the factors that may affect salaries in this field from multiple perspectives. The data in this dataset is completely anonymized, so there are no ethical considerations to this dataset currently."
   ]
  },
  {
   "cell_type": "markdown",
   "id": "9c29423d-f1cb-49a9-ab35-3525ec0c6c6a",
   "metadata": {},
   "source": [
    "## Methodology\n",
    "### Analytical methods\n",
    "* Group Analysis(For comparison)\n",
    "* Regression Analysis(For finding correlations)"
   ]
  },
  {
   "cell_type": "markdown",
   "id": "f53b4af2-2a9b-4ba9-8528-7f213f64c62a",
   "metadata": {},
   "source": [
    "### Visualization\n",
    "* Line Chart\n",
    "* Scatter Plot\n",
    "* Bar Chart\n",
    "\n",
    "These data analysis methods can clearly show the trend and differences of salary level, as well as the correlation with various influencing factors."
   ]
  },
  {
   "cell_type": "markdown",
   "id": "4fadeb2d-6893-43fb-a0e5-6096a7eb9cfc",
   "metadata": {},
   "source": [
    "### License\n",
    "[CC0: Public Domain](https://creativecommons.org/publicdomain/zero/1.0/)"
   ]
  },
  {
   "cell_type": "markdown",
   "id": "112d47d1-c556-4059-b3fd-bffe1ca51342",
   "metadata": {},
   "source": [
    "## Unknowns and dependencies\n",
    "The progress of this project should vary depending on the specific research questions. While working on the research questions, the dataset may not be sufficient for some research questions, and some questions may require multiple datasets or more complex statistical methods for analysis. The complexity of the research questions may also lead to insufficient time for me to get more accurate and reliable results. Most of the data in this dataset collected from the United States, which means there is relatively few data from other countries. The analysis of salary levels in different countries can be biased, so I may look for other relevant datasets during the analysis."
   ]
  },
  {
   "cell_type": "code",
   "execution_count": null,
   "id": "ac5a9c6e-fac1-4091-a4f5-6b73d0036030",
   "metadata": {},
   "outputs": [],
   "source": []
  }
 ],
 "metadata": {
  "kernelspec": {
   "display_name": "Python 3 (ipykernel)",
   "language": "python",
   "name": "python3"
  },
  "language_info": {
   "codemirror_mode": {
    "name": "ipython",
    "version": 3
   },
   "file_extension": ".py",
   "mimetype": "text/x-python",
   "name": "python",
   "nbconvert_exporter": "python",
   "pygments_lexer": "ipython3",
   "version": "3.10.13"
  }
 },
 "nbformat": 4,
 "nbformat_minor": 5
}
